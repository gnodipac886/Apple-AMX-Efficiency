{
 "cells": [
  {
   "cell_type": "code",
   "execution_count": null,
   "id": "1100744e",
   "metadata": {},
   "outputs": [],
   "source": [
    "# void gemm_fp32(const float * A, const float * B, float * C, int M, int K, int N) {\n",
    "# \tfor (int i = 0; i < M; i++) {\n",
    "# \t\tfor (int j = 0; j < N; j++) {\n",
    "# \t\t\tfor (int k = 0; k < K; k++) {\n",
    "# \t\t\t\tC[i * N + j] += A[i * K + k] * B[k * N + j];\n",
    "# \t\t\t}\n",
    "# \t\t}\n",
    "# \t}\n",
    "# }\n",
    "\n"
   ]
  }
 ],
 "metadata": {
  "kernelspec": {
   "display_name": "Python 3 (ipykernel)",
   "language": "python",
   "name": "python3"
  },
  "language_info": {
   "codemirror_mode": {
    "name": "ipython",
    "version": 3
   },
   "file_extension": ".py",
   "mimetype": "text/x-python",
   "name": "python",
   "nbconvert_exporter": "python",
   "pygments_lexer": "ipython3",
   "version": "3.8.10"
  }
 },
 "nbformat": 4,
 "nbformat_minor": 5
}
