{
 "cells": [
  {
   "cell_type": "code",
   "execution_count": 30,
   "id": "1100744e",
   "metadata": {},
   "outputs": [
    {
     "name": "stdout",
     "output_type": "stream",
     "text": [
      "input file: arch/AVX.yaml\r\n",
      "input file: arch/components/L2_to_L3.yaml\r\n",
      "input file: arch/components/L3_to_DRAM.yaml\r\n",
      "input file: arch/components/amx_reg.yaml\r\n",
      "input file: mapper/mapper.yaml\r\n",
      "input file: constraints/arch_constraints.yaml\r\n",
      "input file: constraints/map_constraints.yaml\r\n",
      "input file: example_layer.yaml\r\n",
      "  _______                __                \r\n",
      " /_  __(_)___ ___  ___  / /___  ____  ____ \r\n",
      "  / / / / __ `__ \\/ _ \\/ / __ \\/ __ \\/ __ \\\r\n",
      " / / / / / / / / /  __/ / /_/ / /_/ / /_/ /\r\n",
      "/_/ /_/_/ /_/ /_/\\___/_/\\____/\\____/ .___/ \r\n",
      "                                  /_/      \r\n",
      "\r\n",
      "Problem configuration complete.\r\n",
      "ERROR: key not found: arithmetic, at line: 0\r\n"
     ]
    }
   ],
   "source": [
    "# void gemm_fp32(const float * A, const float * B, float * C, int M, int K, int N) {\n",
    "# \tfor (int i = 0; i < M; i++) {\n",
    "# \t\tfor (int j = 0; j < N; j++) {\n",
    "# \t\t\tfor (int k = 0; k < K; k++) {\n",
    "# \t\t\t\tC[i * N + j] += A[i * K + k] * B[k * N + j];\n",
    "# \t\t\t}\n",
    "# \t\t}\n",
    "# \t}\n",
    "# }\n",
    "\n",
    "!timeloop-mapper arch/AVX.yaml arch/components/*.yaml mapper/mapper.yaml constraints/*.yaml example_layer.yaml"
   ]
  },
  {
   "cell_type": "code",
   "execution_count": 16,
   "id": "4eea5f76",
   "metadata": {},
   "outputs": [
    {
     "name": "stdout",
     "output_type": "stream",
     "text": [
      "input file: arch/AVX.yaml\r\n",
      "  _______                __                \r\n",
      " /_  __(_)___ ___  ___  / /___  ____  ____ \r\n",
      "  / / / / __ `__ \\/ _ \\/ / __ \\/ __ \\/ __ \\\r\n",
      " / / / / / / / / /  __/ / /_/ / /_/ / /_/ /\r\n",
      "/_/ /_/_/ /_/ /_/\\___/_/\\____/\\____/ .___/ \r\n",
      "                                  /_/      \r\n",
      "\r\n",
      "ERROR: key not found: problem, at line: 0\r\n"
     ]
    }
   ],
   "source": [
    "!timeloop-mapper arch/AVX.yaml"
   ]
  },
  {
   "cell_type": "code",
   "execution_count": 21,
   "id": "e1ed1711",
   "metadata": {},
   "outputs": [
    {
     "name": "stdout",
     "output_type": "stream",
     "text": [
      "input file: arch/components/L2_to_L3.yaml\r\n",
      "  _______                __                \r\n",
      " /_  __(_)___ ___  ___  / /___  ____  ____ \r\n",
      "  / / / / __ `__ \\/ _ \\/ / __ \\/ __ \\/ __ \\\r\n",
      " / / / / / / / / /  __/ / /_/ / /_/ / /_/ /\r\n",
      "/_/ /_/_/ /_/ /_/\\___/_/\\____/\\____/ .___/ \r\n",
      "                                  /_/      \r\n",
      "\r\n",
      "ERROR: key not found: problem, at line: 0\r\n"
     ]
    }
   ],
   "source": [
    "!timeloop-mapper arch/components/L2_to_L3.yaml"
   ]
  },
  {
   "cell_type": "code",
   "execution_count": 22,
   "id": "acabc447",
   "metadata": {},
   "outputs": [
    {
     "name": "stdout",
     "output_type": "stream",
     "text": [
      "input file: arch/components/L3_to_DRAM.yaml\r\n",
      "  _______                __                \r\n",
      " /_  __(_)___ ___  ___  / /___  ____  ____ \r\n",
      "  / / / / __ `__ \\/ _ \\/ / __ \\/ __ \\/ __ \\\r\n",
      " / / / / / / / / /  __/ / /_/ / /_/ / /_/ /\r\n",
      "/_/ /_/_/ /_/ /_/\\___/_/\\____/\\____/ .___/ \r\n",
      "                                  /_/      \r\n",
      "\r\n",
      "ERROR: key not found: problem, at line: 0\r\n"
     ]
    }
   ],
   "source": [
    "!timeloop-mapper arch/components/L3_to_DRAM.yaml"
   ]
  },
  {
   "cell_type": "code",
   "execution_count": 24,
   "id": "f777288c",
   "metadata": {},
   "outputs": [
    {
     "name": "stdout",
     "output_type": "stream",
     "text": [
      "input file: arch/components/amx_reg.yaml\r\n",
      "  _______                __                \r\n",
      " /_  __(_)___ ___  ___  / /___  ____  ____ \r\n",
      "  / / / / __ `__ \\/ _ \\/ / __ \\/ __ \\/ __ \\\r\n",
      " / / / / / / / / /  __/ / /_/ / /_/ / /_/ /\r\n",
      "/_/ /_/_/ /_/ /_/\\___/_/\\____/\\____/ .___/ \r\n",
      "                                  /_/      \r\n",
      "\r\n",
      "ERROR: key not found: problem, at line: 0\r\n"
     ]
    }
   ],
   "source": [
    "!timeloop-mapper arch/components/amx_reg.yaml"
   ]
  },
  {
   "cell_type": "code",
   "execution_count": 25,
   "id": "5b947038",
   "metadata": {},
   "outputs": [
    {
     "name": "stdout",
     "output_type": "stream",
     "text": [
      "input file: mapper/mapper.yaml\r\n",
      "  _______                __                \r\n",
      " /_  __(_)___ ___  ___  / /___  ____  ____ \r\n",
      "  / / / / __ `__ \\/ _ \\/ / __ \\/ __ \\/ __ \\\r\n",
      " / / / / / / / / /  __/ / /_/ / /_/ / /_/ /\r\n",
      "/_/ /_/_/ /_/ /_/\\___/_/\\____/\\____/ .___/ \r\n",
      "                                  /_/      \r\n",
      "\r\n",
      "ERROR: key not found: problem, at line: 0\r\n"
     ]
    }
   ],
   "source": [
    "!timeloop-mapper mapper/mapper.yaml"
   ]
  },
  {
   "cell_type": "code",
   "execution_count": 26,
   "id": "850df5b9",
   "metadata": {},
   "outputs": [
    {
     "name": "stdout",
     "output_type": "stream",
     "text": [
      "input file: constraints/arch_constraints.yaml\r\n",
      "  _______                __                \r\n",
      " /_  __(_)___ ___  ___  / /___  ____  ____ \r\n",
      "  / / / / __ `__ \\/ _ \\/ / __ \\/ __ \\/ __ \\\r\n",
      " / / / / / / / / /  __/ / /_/ / /_/ / /_/ /\r\n",
      "/_/ /_/_/ /_/ /_/\\___/_/\\____/\\____/ .___/ \r\n",
      "                                  /_/      \r\n",
      "\r\n",
      "ERROR: key not found: problem, at line: 0\r\n"
     ]
    }
   ],
   "source": [
    "!timeloop-mapper constraints/arch_constraints.yaml"
   ]
  },
  {
   "cell_type": "code",
   "execution_count": 27,
   "id": "d1f367e2",
   "metadata": {},
   "outputs": [
    {
     "name": "stdout",
     "output_type": "stream",
     "text": [
      "input file: constraints/map_constraints.yaml\r\n",
      "  _______                __                \r\n",
      " /_  __(_)___ ___  ___  / /___  ____  ____ \r\n",
      "  / / / / __ `__ \\/ _ \\/ / __ \\/ __ \\/ __ \\\r\n",
      " / / / / / / / / /  __/ / /_/ / /_/ / /_/ /\r\n",
      "/_/ /_/_/ /_/ /_/\\___/_/\\____/\\____/ .___/ \r\n",
      "                                  /_/      \r\n",
      "\r\n",
      "ERROR: key not found: problem, at line: 0\r\n"
     ]
    }
   ],
   "source": [
    "!timeloop-mapper constraints/map_constraints.yaml"
   ]
  },
  {
   "cell_type": "code",
   "execution_count": 28,
   "id": "1b003d4c",
   "metadata": {},
   "outputs": [
    {
     "name": "stdout",
     "output_type": "stream",
     "text": [
      "input file: example_layer.yaml\r\n",
      "  _______                __                \r\n",
      " /_  __(_)___ ___  ___  / /___  ____  ____ \r\n",
      "  / / / / __ `__ \\/ _ \\/ / __ \\/ __ \\/ __ \\\r\n",
      " / / / / / / / / /  __/ / /_/ / /_/ / /_/ /\r\n",
      "/_/ /_/_/ /_/ /_/\\___/_/\\____/\\____/ .___/ \r\n",
      "                                  /_/      \r\n",
      "\r\n",
      "Problem configuration complete.\r\n",
      "ERROR: key not found: mapper, at line: 0\r\n"
     ]
    }
   ],
   "source": [
    "!timeloop-mapper example_layer.yaml"
   ]
  },
  {
   "cell_type": "code",
   "execution_count": null,
   "id": "bb32b3d4",
   "metadata": {},
   "outputs": [],
   "source": []
  }
 ],
 "metadata": {
  "kernelspec": {
   "display_name": "Python 3 (ipykernel)",
   "language": "python",
   "name": "python3"
  },
  "language_info": {
   "codemirror_mode": {
    "name": "ipython",
    "version": 3
   },
   "file_extension": ".py",
   "mimetype": "text/x-python",
   "name": "python",
   "nbconvert_exporter": "python",
   "pygments_lexer": "ipython3",
   "version": "3.8.10"
  }
 },
 "nbformat": 4,
 "nbformat_minor": 5
}
