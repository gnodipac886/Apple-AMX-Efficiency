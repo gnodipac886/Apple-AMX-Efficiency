{
 "cells": [
  {
   "cell_type": "markdown",
   "metadata": {},
   "source": [
    "# Your name: David Kong"
   ]
  },
  {
   "cell_type": "code",
   "execution_count": 1,
   "metadata": {
    "scrolled": false
   },
   "outputs": [],
   "source": [
    "import pandas as pd\n",
    "import numpy as np\n",
    "from pathlib import Path\n",
    "from loaders import *"
   ]
  },
  {
   "cell_type": "markdown",
   "metadata": {},
   "source": [
    "Mananully generating the best mapping for each architecture and layer shape is rather time-consuming, even if the search is performed under a tightly constrained map sapace, *e.g.,* the one in question 2.2. Therefore, timeloop does provide the automatic mapping space search functinality when appropriate map space constriants are given.\n",
    "\n",
    "To perform an automatic mapping space search, you need to provide a mapspace constraint as an input. A mapspace constraint specifies the limitations imposed by your dataflow or hardware structures. An example mapping space constraint is shown below (`EXAMPLE_CONSTRAINTS`). To automatically search the mapspace with the constraints file, you should run the `run_timeloop_mapper` command.\n",
    "\n",
    "*The search should take less than 5 minutes to finish. If you are running this command from the shell instead of running the below cell, you can also temrinate it whenever you want by pressing Ctrl+C (you will need to wait for timeloop to finish the remainig computations after you send the signal; the terminated threads will have a dash next to its id).*"
   ]
  },
  {
   "cell_type": "code",
   "execution_count": null,
   "metadata": {},
   "outputs": [],
   "source": [
    "!accelergyTables -r /home/workspace/final-project/example_designs/simple_output_stationary/PIM_estimation_tables\n",
    "\n",
    "pim_accelergy_result = run_accelergy(\n",
    "    ConfigRegistry.PIM_LARGE_ARCH,\n",
    "    ConfigRegistry.PIM_LARGE_COMPONENTS_DIR\n",
    ")\n",
    "print(pim_accelergy_result.ert_verbose)"
   ]
  },
  {
   "cell_type": "code",
   "execution_count": 3,
   "metadata": {
    "scrolled": true
   },
   "outputs": [
    {
     "name": "stdout",
     "output_type": "stream",
     "text": [
      "input file: tmp.yaml\n",
      "  _______                __                \n",
      " /_  __(_)___ ___  ___  / /___  ____  ____ \n",
      "  / / / / __ `__ \\/ _ \\/ / __ \\/ __ \\/ __ \\\n",
      " / / / / / / / / /  __/ / /_/ / /_/ / /_/ /\n",
      "/_/ /_/_/ /_/ /_/\\___/_/\\____/\\____/ .___/ \n",
      "                                  /_/      \n",
      "\n",
      "Problem configuration complete.\n",
      "[ERROR] 2023-05-07 19:30:29,148 - pytimeloop.app.mapper - Could not find timeloop-mapper.stats.txt\n",
      "[ERROR] 2023-05-07 19:30:29,150 - pytimeloop.app.mapper - Could not find timeloop-mapper.map.txt\n"
     ]
    },
    {
     "name": "stderr",
     "output_type": "stream",
     "text": [
      "timeloop-mapper: src/model/arithmetic.cpp:218: static void model::ArithmeticUnits::ValidateTopology(model::ArithmeticUnits::Specs&): Assertion `specs.meshX.Get() * specs.meshY.Get() == specs.instances.Get()' failed.\n"
     ]
    }
   ],
   "source": [
    "sys_amx_mapper_stats, sys_amx_mapper_loops = run_timeloop_mapper(\n",
    "    #ConfigRegistry.SYSTEM_AMX_DIR, \n",
    "    #ConfigRegistry.SYSTEM_COMPONENTS_DIR,\n",
    "    #ConfigRegistry.MED_LAYER_PROB,\n",
    "    #ConfigRegistry.EXAMPLE_CONSTRAINTS, \n",
    "    #ConfigRegistry.MAPPER\n",
    "    \n",
    "#     Path('../simba_like/arch/simba_like.yaml'),\n",
    "#     Path('../simba_like/arch/components/reg_storage.yaml'),\n",
    "#     Path('../simba_like/arch/components/smartbuffer_RF.yaml'),\n",
    "#     Path('../simba_like/arch/components/smartbuffer_SRAM.yaml'),\n",
    "#     Path('../simba_like/mapper/mapper.yaml'),\n",
    "#     Path('../simba_like/constraints/simba_like_map_constraints.yaml'),\n",
    "#     Path('../simba_like/constraints/simba_like_arch_constraints.yaml'),\n",
    "#     Path('../medium_layer.yaml')\n",
    "    \n",
    "     Path('../simple_weight_stationary/arch/simple_weight_stationary.yaml'),\n",
    "     Path('../simple_weight_stationary/arch/components/reg_storage.yaml'),\n",
    "     Path('../simple_weight_stationary/arch/components/smartbuffer_RF.yaml'),\n",
    "     Path('../simple_weight_stationary/arch/components/smartbuffer_SRAM.yaml'),\n",
    "     Path('../simple_weight_stationary/mapper/mapper.yaml'),\n",
    "     Path('../simple_weight_stationary/constraints/simple_weight_stationary_map_constraints.yaml'),\n",
    "     Path('../simple_weight_stationary/constraints/simple_weight_stationary_arch_constraints.yaml'),\n",
    "     Path('../layers/AlexNet_layer1.yaml')\n",
    ")\n"
   ]
  },
  {
   "cell_type": "code",
   "execution_count": 8,
   "metadata": {},
   "outputs": [
    {
     "name": "stdout",
     "output_type": "stream",
     "text": [
      "\n"
     ]
    }
   ],
   "source": [
    "print(sys_amx_mapper_stats)"
   ]
  },
  {
   "cell_type": "code",
   "execution_count": null,
   "metadata": {},
   "outputs": [],
   "source": []
  }
 ],
 "metadata": {
  "kernelspec": {
   "display_name": "Python 3 (ipykernel)",
   "language": "python",
   "name": "python3"
  },
  "language_info": {
   "codemirror_mode": {
    "name": "ipython",
    "version": 3
   },
   "file_extension": ".py",
   "mimetype": "text/x-python",
   "name": "python",
   "nbconvert_exporter": "python",
   "pygments_lexer": "ipython3",
   "version": "3.8.10"
  },
  "pycharm": {
   "stem_cell": {
    "cell_type": "raw",
    "metadata": {
     "collapsed": false
    },
    "source": []
   }
  }
 },
 "nbformat": 4,
 "nbformat_minor": 2
}
