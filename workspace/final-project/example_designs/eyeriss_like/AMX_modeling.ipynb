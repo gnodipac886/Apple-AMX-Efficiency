{
 "cells": [
  {
   "cell_type": "code",
   "execution_count": 3,
   "id": "1100744e",
   "metadata": {},
   "outputs": [
    {
     "name": "stdout",
     "output_type": "stream",
     "text": [
      "input file: arch/eyeriss_like.yaml\r\n",
      "input file: arch/components/smartbuffer_RF.yaml\r\n",
      "input file: arch/components/smartbuffer_SRAM.yaml\r\n",
      "input file: mapper/mapper.yaml\r\n",
      "input file: constraints/eyeriss_like_arch_constraints.yaml\r\n",
      "input file: constraints/eyeriss_like_map_constraints.yaml\r\n",
      "input file: small_layer.yaml\r\n",
      "  _______                __                \r\n",
      " /_  __(_)___ ___  ___  / /___  ____  ____ \r\n",
      "  / / / / __ `__ \\/ _ \\/ / __ \\/ __ \\/ __ \\\r\n",
      " / / / / / / / / /  __/ / /_/ / /_/ / /_/ /\r\n",
      "/_/ /_/_/ /_/ /_/\\___/_/\\____/\\____/ .___/ \r\n",
      "                                  /_/      \r\n",
      "\r\n",
      "ERROR: key not found: problem, at line: 0\r\n"
     ]
    }
   ],
   "source": [
    "# void gemm_fp32(const float * A, const float * B, float * C, int M, int K, int N) {\n",
    "# \tfor (int i = 0; i < M; i++) {\n",
    "# \t\tfor (int j = 0; j < N; j++) {\n",
    "# \t\t\tfor (int k = 0; k < K; k++) {\n",
    "# \t\t\t\tC[i * N + j] += A[i * K + k] * B[k * N + j];\n",
    "# \t\t\t}\n",
    "# \t\t}\n",
    "# \t}\n",
    "# }\n",
    "\n",
    "!timeloop-mapper arch/eyeriss_like.yaml arch/components/*.yaml mapper/mapper.yaml constraints/*.yaml tiny_layer.yaml"
   ]
  },
  {
   "cell_type": "code",
   "execution_count": null,
   "id": "cb486ea9",
   "metadata": {},
   "outputs": [],
   "source": []
  }
 ],
 "metadata": {
  "kernelspec": {
   "display_name": "Python 3 (ipykernel)",
   "language": "python",
   "name": "python3"
  },
  "language_info": {
   "codemirror_mode": {
    "name": "ipython",
    "version": 3
   },
   "file_extension": ".py",
   "mimetype": "text/x-python",
   "name": "python",
   "nbconvert_exporter": "python",
   "pygments_lexer": "ipython3",
   "version": "3.8.10"
  }
 },
 "nbformat": 4,
 "nbformat_minor": 5
}
